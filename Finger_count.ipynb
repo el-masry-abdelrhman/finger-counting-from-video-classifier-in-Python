{
  "nbformat": 4,
  "nbformat_minor": 0,
  "metadata": {
    "colab": {
      "provenance": []
    },
    "kernelspec": {
      "name": "python3",
      "display_name": "Python 3"
    },
    "language_info": {
      "name": "python"
    }
  },
  "cells": [
    {
      "cell_type": "markdown",
      "source": [
        "# **Video Finger Counting**"
      ],
      "metadata": {
        "id": "5c7oz5ViAmv4"
      }
    },
    {
      "cell_type": "markdown",
      "source": [
        "**Library importation**"
      ],
      "metadata": {
        "id": "zZpgNtevhxh4"
      }
    },
    {
      "cell_type": "code",
      "execution_count": null,
      "metadata": {
        "id": "8qM3XG_LAmIn"
      },
      "outputs": [],
      "source": [
        "import os\n",
        "import cv2\n",
        "import pickle\n",
        "import mediapipe as mp\n",
        "import numpy as np\n",
        "import matplotlib.pyplot as plt\n",
        "from sklearn.ensemble import RandomForestClassifier\n",
        "from sklearn.model_selection import train_test_split\n",
        "from sklearn.metrics import accuracy_score"
      ]
    },
    {
      "cell_type": "markdown",
      "source": [
        "# **Data creation**"
      ],
      "metadata": {
        "id": "z_veB3fOh6mC"
      }
    },
    {
      "cell_type": "code",
      "source": [
        "#creation of the folder\n",
        "file = '/Users/AbdelrhmanElMasry/Downloads/finger count/data'\n",
        "if not os.path.exists(file):\n",
        "    os.makedirs(file)\n",
        "\n",
        "#definition of classes and dataset_size for each class\n",
        "number_of_classes = 3\n",
        "dataset_size = 100\n",
        "\n",
        "cap = cv2.VideoCapture(0)\n",
        "for j in range(number_of_classes):\n",
        "    if not os.path.exists(os.path.join(file, str(j))):\n",
        "        os.makedirs(os.path.join(file, str(j)))\n",
        "\n",
        "    print('Collecting data for class {}'.format(j))\n",
        "\n",
        "    done = False\n",
        "    while True:\n",
        "        ret, frame = cap.read()\n",
        "        cv2.putText(frame, 'Press \"S\" to start data collecting :)', (100, 50), cv2.FONT_HERSHEY_SIMPLEX, 1.3, (0, 255, 0), 3,\n",
        "                    cv2.LINE_AA)\n",
        "        cv2.imshow('frame', frame)\n",
        "        if cv2.waitKey(25) == ord('s'):\n",
        "            break\n",
        "\n",
        "    counter = 0\n",
        "    while counter < dataset_size:\n",
        "        ret, frame = cap.read()\n",
        "        cv2.imshow('frame', frame)\n",
        "        cv2.waitKey(25)\n",
        "        cv2.imwrite(os.path.join(file, str(j), '{}.jpg'.format(counter)), frame)\n",
        "\n",
        "        counter += 1\n",
        "\n",
        "cap.release()\n",
        "cv2.destroyAllWindows()\n"
      ],
      "metadata": {
        "id": "pt6dRIcphwsp"
      },
      "execution_count": null,
      "outputs": []
    },
    {
      "cell_type": "code",
      "source": [
        "\n",
        "mp_hands = mp.solutions.hands\n",
        "mp_drawing = mp.solutions.drawing_utils\n",
        "mp_drawing_styles = mp.solutions.drawing_styles\n",
        "\n",
        "hands = mp_hands.Hands(static_image_mode=True, min_detection_confidence=0.3)\n",
        "\n",
        "file = '/Users/AbdelrhmanElMasry/Downloads/finger count/data'\n",
        "\n",
        "data = []\n",
        "labels = []\n",
        "for dir_ in os.listdir(file):\n",
        "    for img_path in os.listdir(os.path.join(file, dir_)):\n",
        "        data_aux = []\n",
        "\n",
        "        x_ = []\n",
        "        y_ = []\n",
        "\n",
        "        img = cv2.imread(os.path.join(file, dir_, img_path))\n",
        "        img_rgb = cv2.cvtColor(img, cv2.COLOR_BGR2RGB)\n",
        "\n",
        "        results = hands.process(img_rgb)\n",
        "        if results.multi_hand_landmarks:\n",
        "            for hand_landmarks in results.multi_hand_landmarks:\n",
        "                for i in range(len(hand_landmarks.landmark)):\n",
        "                    x = hand_landmarks.landmark[i].x\n",
        "                    y = hand_landmarks.landmark[i].y\n",
        "\n",
        "                    x_.append(x)\n",
        "                    y_.append(y)\n",
        "\n",
        "                for i in range(len(hand_landmarks.landmark)):\n",
        "                    x = hand_landmarks.landmark[i].x\n",
        "                    y = hand_landmarks.landmark[i].y\n",
        "                    data_aux.append(x - min(x_))\n",
        "                    data_aux.append(y - min(y_))\n",
        "\n",
        "            data.append(data_aux)\n",
        "            labels.append(dir_)\n",
        "\n",
        "f = open('data.pickle', 'wb')\n",
        "pickle.dump({'data': data, 'labels': labels}, f)\n",
        "f.close()"
      ],
      "metadata": {
        "id": "1LMqxmaPiYns"
      },
      "execution_count": null,
      "outputs": []
    },
    {
      "cell_type": "markdown",
      "source": [
        "# **Model training**"
      ],
      "metadata": {
        "id": "kLfZ6jUoiZWL"
      }
    },
    {
      "cell_type": "code",
      "source": [
        "\n",
        "\n",
        "data_dict = pickle.load(open('data.pickle', 'rb'))\n",
        "\n",
        "data = np.asarray(data_dict['data'])\n",
        "labels = np.asarray(data_dict['labels'])\n",
        "\n",
        "x_train, x_test, y_train, y_test = train_test_split(data, labels, test_size=0.2, shuffle=True, stratify=labels)\n",
        "\n",
        "model = RandomForestClassifier()\n",
        "\n",
        "model.fit(x_train, y_train)\n",
        "\n",
        "y_predict = model.predict(x_test)\n",
        "\n",
        "score = accuracy_score(y_predict, y_test)\n",
        "\n",
        "print('{}% of samples were classified correctly !'.format(score * 100))\n",
        "\n",
        "f = open('model.p', 'wb')\n",
        "pickle.dump({'model': model}, f)\n",
        "f.close()\n",
        "\n",
        "\n",
        "model_dict = pickle.load(open('./model.p', 'rb'))\n",
        "model = model_dict['model']"
      ],
      "metadata": {
        "id": "Ac7l13WDidZ6"
      },
      "execution_count": null,
      "outputs": []
    },
    {
      "cell_type": "markdown",
      "source": [
        "# **Using the model**"
      ],
      "metadata": {
        "id": "LTdr7aBkinf5"
      }
    },
    {
      "cell_type": "code",
      "source": [
        "cap = cv2.VideoCapture(0)\n",
        "\n",
        "mp_hands = mp.solutions.hands\n",
        "mp_drawing = mp.solutions.drawing_utils\n",
        "mp_drawing_styles = mp.solutions.drawing_styles\n",
        "\n",
        "hands = mp_hands.Hands(static_image_mode=True, min_detection_confidence=0.3)\n",
        "\n",
        "labels_dict = {0: '1', 1: '2', 2: '3'}\n",
        "while True:\n",
        "\n",
        "    data_aux = []\n",
        "    x_ = []\n",
        "    y_ = []\n",
        "\n",
        "    ret, frame = cap.read()\n",
        "\n",
        "    H, W, _ = frame.shape\n",
        "\n",
        "    frame_rgb = cv2.cvtColor(frame, cv2.COLOR_BGR2RGB)\n",
        "\n",
        "    results = hands.process(frame_rgb)\n",
        "    if results.multi_hand_landmarks:\n",
        "        for hand_landmarks in results.multi_hand_landmarks:\n",
        "            mp_drawing.draw_landmarks(\n",
        "                frame,  # image to draw\n",
        "                hand_landmarks,  # model output\n",
        "                mp_hands.HAND_CONNECTIONS,  # hand connections\n",
        "                mp_drawing_styles.get_default_hand_landmarks_style(),\n",
        "                mp_drawing_styles.get_default_hand_connections_style())\n",
        "\n",
        "        for hand_landmarks in results.multi_hand_landmarks:\n",
        "            for i in range(len(hand_landmarks.landmark)):\n",
        "                x = hand_landmarks.landmark[i].x\n",
        "                y = hand_landmarks.landmark[i].y\n",
        "\n",
        "                x_.append(x)\n",
        "                y_.append(y)\n",
        "\n",
        "            for i in range(len(hand_landmarks.landmark)):\n",
        "                x = hand_landmarks.landmark[i].x\n",
        "                y = hand_landmarks.landmark[i].y\n",
        "                data_aux.append(x - min(x_))\n",
        "                data_aux.append(y - min(y_))\n",
        "\n",
        "        x1 = int(min(x_) * W) - 10\n",
        "        y1 = int(min(y_) * H) - 10\n",
        "\n",
        "        x2 = int(max(x_) * W) - 10\n",
        "        y2 = int(max(y_) * H) - 10\n",
        "\n",
        "        prediction = model.predict([np.asarray(data_aux)])\n",
        "\n",
        "        predicted_character = labels_dict[int(prediction[0])]\n",
        "\n",
        "        cv2.rectangle(frame, (x1, y1), (x2, y2), (0, 0, 0), 4)\n",
        "        cv2.putText(frame, predicted_character, (x1, y1 - 10), cv2.FONT_HERSHEY_SIMPLEX, 1.3, (0, 0, 0), 3,\n",
        "                    cv2.LINE_AA)\n",
        "\n",
        "    cv2.imshow('frame', frame)\n",
        "    cv2.waitKey(1)\n",
        "\n",
        "\n",
        "cap.release()\n",
        "cv2.destroyAllWindows()"
      ],
      "metadata": {
        "id": "Ep2rK7GTikYC"
      },
      "execution_count": null,
      "outputs": []
    }
  ]
}